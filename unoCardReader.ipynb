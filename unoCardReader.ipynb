{
  "nbformat": 4,
  "nbformat_minor": 0,
  "metadata": {
    "colab": {
      "provenance": [],
      "mount_file_id": "1kqKIAkE9b6wsjHgp0lPDmqBkMSn8AVMI",
      "authorship_tag": "ABX9TyNwCoID/lwi6/Ja3ujk2Tts",
      "include_colab_link": true
    },
    "kernelspec": {
      "name": "python3",
      "display_name": "Python 3"
    },
    "language_info": {
      "name": "python"
    }
  },
  "cells": [
    {
      "cell_type": "markdown",
      "metadata": {
        "id": "view-in-github",
        "colab_type": "text"
      },
      "source": [
        "<a href=\"https://colab.research.google.com/github/minaamakary/unoCardDetectionUsingCNN/blob/main/unoCardReader.ipynb\" target=\"_parent\"><img src=\"https://colab.research.google.com/assets/colab-badge.svg\" alt=\"Open In Colab\"/></a>"
      ]
    },
    {
      "cell_type": "code",
      "source": [
        "from google.colab import drive\n",
        "import tensorflow as tf #import tensorflow libraries\n",
        "print (tf.__version__) #print version -- was causing an error in the beginning due to version\n",
        "from sklearn.model_selection import train_test_split\n",
        "from keras.preprocessing.image import ImageDataGenerator\n",
        "from keras import models, layers\n",
        "import json"
      ],
      "metadata": {
        "colab": {
          "base_uri": "https://localhost:8080/"
        },
        "id": "DvSa6rEa_aWs",
        "outputId": "7d1a1c7a-724d-4852-9969-975fb987196e"
      },
      "execution_count": 41,
      "outputs": [
        {
          "output_type": "stream",
          "name": "stdout",
          "text": [
            "2.14.0\n"
          ]
        }
      ]
    },
    {
      "cell_type": "markdown",
      "source": [
        "# New Section"
      ],
      "metadata": {
        "id": "fnyU-zud9T40"
      }
    },
    {
      "cell_type": "code",
      "source": [
        "\n",
        "dataset_path = '/content/drive/MyDrive/uno_cards_dataset/myDataset' #getting the path to the dataset\n",
        "\n",
        "train_datagen = ImageDataGenerator( #image processing\n",
        "    rescale=1./255,\n",
        "    shear_range=0.2,\n",
        "    zoom_range=0.2,\n",
        "    horizontal_flip=True\n",
        ")\n",
        "\n",
        "train_generator = train_datagen.flow_from_directory(\n",
        "    dataset_path,\n",
        "    target_size=(224, 224), #set image size to 224*224\n",
        "    batch_size=50,\n",
        "    class_mode='categorical',\n",
        "    shuffle=True,\n",
        "    seed=42\n",
        ")\n",
        "\n",
        "\n"
      ],
      "metadata": {
        "colab": {
          "base_uri": "https://localhost:8080/"
        },
        "id": "TkcHDqIcAi_K",
        "outputId": "48cba9a5-67f4-4e03-9ea1-e53885e47b67"
      },
      "execution_count": 42,
      "outputs": [
        {
          "output_type": "stream",
          "name": "stdout",
          "text": [
            "Found 515 images belonging to 54 classes.\n"
          ]
        }
      ]
    },
    {
      "cell_type": "code",
      "source": [
        "model = models.Sequential()\n",
        "model.add(layers.Conv2D(32, (3, 3), activation='relu', input_shape=(224,224,3)))\n",
        "#Add more layers\n",
        "model.add(layers.Flatten())\n",
        "model.add(layers.Dense(54, activation='softmax'))\n",
        "\n",
        "#adding another layer\n",
        "#model.add(layers.Conv2D(32, (3, 3), activation='relu'))\n",
        "#model.add(layers.Flatten())\n",
        "#model.add(layers.Dense(54, activation='softmax'))\n",
        "\n",
        "#and another layer :D\n",
        "#model.add(layers.Conv2D(32, (3, 3), activation='relu'))\n",
        "#model.add(layers.Flatten())\n",
        "#model.add(layers.Dense(54, activation='softmax'))\n",
        "\n",
        "\n",
        "model.summary()\n",
        "model.compile(optimizer='adam', loss='categorical_crossentropy', metrics=['accuracy'])"
      ],
      "metadata": {
        "colab": {
          "base_uri": "https://localhost:8080/"
        },
        "id": "ELg0Qs2vFkTb",
        "outputId": "7285342f-3637-438d-dc36-28218dcd9edf"
      },
      "execution_count": 43,
      "outputs": [
        {
          "output_type": "stream",
          "name": "stdout",
          "text": [
            "Model: \"sequential_1\"\n",
            "_________________________________________________________________\n",
            " Layer (type)                Output Shape              Param #   \n",
            "=================================================================\n",
            " conv2d_1 (Conv2D)           (None, 222, 222, 32)      896       \n",
            "                                                                 \n",
            " flatten_1 (Flatten)         (None, 1577088)           0         \n",
            "                                                                 \n",
            " dense_1 (Dense)             (None, 54)                85162806  \n",
            "                                                                 \n",
            "=================================================================\n",
            "Total params: 85163702 (324.87 MB)\n",
            "Trainable params: 85163702 (324.87 MB)\n",
            "Non-trainable params: 0 (0.00 Byte)\n",
            "_________________________________________________________________\n"
          ]
        }
      ]
    },
    {
      "cell_type": "code",
      "source": [
        "your_epochs = 50\n",
        "your_steps_per_epoch = len(train_generator)\n",
        "\n",
        "# Model Training\n",
        "history = model.fit(\n",
        "    train_generator,\n",
        "    epochs=your_epochs,\n",
        "    steps_per_epoch=your_steps_per_epoch,\n",
        "    verbose=1\n",
        ")\n",
        "print(type(history))"
      ],
      "metadata": {
        "colab": {
          "base_uri": "https://localhost:8080/"
        },
        "id": "5ePL_Xs7GzIs",
        "outputId": "8e40fae8-e90b-4585-c1e4-e990743ba5dc"
      },
      "execution_count": null,
      "outputs": [
        {
          "output_type": "stream",
          "name": "stdout",
          "text": [
            "Epoch 1/50\n",
            " 3/11 [=======>......................] - ETA: 2:55 - loss: 200.4866 - accuracy: 0.1533"
          ]
        }
      ]
    }
  ]
}