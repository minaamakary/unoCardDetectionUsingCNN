{
  "nbformat": 4,
  "nbformat_minor": 0,
  "metadata": {
    "colab": {
      "provenance": [],
      "mount_file_id": "1kqKIAkE9b6wsjHgp0lPDmqBkMSn8AVMI",
      "authorship_tag": "ABX9TyOJ+YfUQOSbud4uoekQyxHi",
      "include_colab_link": true
    },
    "kernelspec": {
      "name": "python3",
      "display_name": "Python 3"
    },
    "language_info": {
      "name": "python"
    }
  },
  "cells": [
    {
      "cell_type": "markdown",
      "metadata": {
        "id": "view-in-github",
        "colab_type": "text"
      },
      "source": [
        "<a href=\"https://colab.research.google.com/github/minaamakary/unoCardDetectionUsingCNN/blob/main/unoCardReader.ipynb\" target=\"_parent\"><img src=\"https://colab.research.google.com/assets/colab-badge.svg\" alt=\"Open In Colab\"/></a>"
      ]
    },
    {
      "cell_type": "code",
      "source": [
        "from google.colab import drive\n",
        "import tensorflow as tf #import tensorflow libraries\n",
        "print (tf.__version__) #print version -- was causing an error in the beginning due to version\n",
        "from sklearn.model_selection import train_test_split\n",
        "from keras.preprocessing.image import ImageDataGenerator\n",
        "from keras import models, layers"
      ],
      "metadata": {
        "colab": {
          "base_uri": "https://localhost:8080/"
        },
        "id": "DvSa6rEa_aWs",
        "outputId": "9807d2ad-f90d-4f1a-b5e3-07c36ddc6e79"
      },
      "execution_count": 44,
      "outputs": [
        {
          "output_type": "stream",
          "name": "stdout",
          "text": [
            "2.14.0\n"
          ]
        }
      ]
    },
    {
      "cell_type": "markdown",
      "source": [
        "# New Section"
      ],
      "metadata": {
        "id": "fnyU-zud9T40"
      }
    },
    {
      "cell_type": "code",
      "source": [
        "\n",
        "dataset_path = '/content/drive/MyDrive/uno_cards_dataset/myDataset' #getting the path to the dataset\n",
        "\n",
        "train_datagen = ImageDataGenerator( #image processing\n",
        "    rescale=1./255,\n",
        "    shear_range=0.2,\n",
        "    zoom_range=0.2,\n",
        "    horizontal_flip=True\n",
        ")\n",
        "\n",
        "train_generator = train_datagen.flow_from_directory(\n",
        "    dataset_path,\n",
        "    target_size=(224, 224), #set image size to 224*224\n",
        "    batch_size=50,\n",
        "    class_mode='categorical',\n",
        "    shuffle=True,\n",
        "    seed=42\n",
        ")\n",
        "\n",
        "\n"
      ],
      "metadata": {
        "colab": {
          "base_uri": "https://localhost:8080/"
        },
        "id": "TkcHDqIcAi_K",
        "outputId": "b91d80da-babf-4b54-cfb5-e077a3630b77"
      },
      "execution_count": 49,
      "outputs": [
        {
          "output_type": "stream",
          "name": "stdout",
          "text": [
            "Found 515 images belonging to 54 classes.\n"
          ]
        }
      ]
    },
    {
      "cell_type": "code",
      "source": [
        "model = models.Sequential()\n",
        "model.add(layers.Conv2D(32, (3, 3), activation='relu', input_shape=(224,224,3)))\n",
        "#Add more layers\n",
        "model.add(layers.Flatten())\n",
        "model.add(layers.Dense(54, activation='softmax'))\n",
        "\n",
        "#adding another layer\n",
        "#model.add(layers.Conv2D(32, (3, 3), activation='relu'))\n",
        "#model.add(layers.Flatten())\n",
        "#model.add(layers.Dense(54, activation='softmax'))\n",
        "\n",
        "#and another layer :D\n",
        "#model.add(layers.Conv2D(32, (3, 3), activation='relu'))\n",
        "#model.add(layers.Flatten())\n",
        "#model.add(layers.Dense(54, activation='softmax'))\n",
        "\n",
        "\n",
        "model.summary()\n",
        "model.compile(optimizer='adam', loss='categorical_crossentropy', metrics=['accuracy'])"
      ],
      "metadata": {
        "colab": {
          "base_uri": "https://localhost:8080/"
        },
        "id": "ELg0Qs2vFkTb",
        "outputId": "0ba569d5-acf6-40c3-9bc6-ef8c75c2346c"
      },
      "execution_count": 50,
      "outputs": [
        {
          "output_type": "stream",
          "name": "stdout",
          "text": [
            "Model: \"sequential_11\"\n",
            "_________________________________________________________________\n",
            " Layer (type)                Output Shape              Param #   \n",
            "=================================================================\n",
            " conv2d_10 (Conv2D)          (None, 222, 222, 32)      896       \n",
            "                                                                 \n",
            " flatten_9 (Flatten)         (None, 1577088)           0         \n",
            "                                                                 \n",
            " dense_9 (Dense)             (None, 54)                85162806  \n",
            "                                                                 \n",
            "=================================================================\n",
            "Total params: 85163702 (324.87 MB)\n",
            "Trainable params: 85163702 (324.87 MB)\n",
            "Non-trainable params: 0 (0.00 Byte)\n",
            "_________________________________________________________________\n"
          ]
        }
      ]
    },
    {
      "cell_type": "code",
      "source": [
        "your_epochs = 50\n",
        "your_steps_per_epoch = len(train_generator)\n",
        "\n",
        "# Model Training\n",
        "history = model.fit(\n",
        "    train_generator,\n",
        "    epochs=your_epochs,\n",
        "    steps_per_epoch=your_steps_per_epoch,\n",
        "    verbose=1\n",
        ")"
      ],
      "metadata": {
        "colab": {
          "base_uri": "https://localhost:8080/"
        },
        "id": "5ePL_Xs7GzIs",
        "outputId": "3da661b3-33e3-4eeb-85b4-72abb9f134b7"
      },
      "execution_count": null,
      "outputs": [
        {
          "output_type": "stream",
          "name": "stdout",
          "text": [
            "Epoch 1/50\n",
            "11/11 [==============================] - 93s 8s/step - loss: 158.8880 - accuracy: 0.0505\n",
            "Epoch 2/50\n",
            "11/11 [==============================] - 87s 8s/step - loss: 30.1686 - accuracy: 0.1282\n",
            "Epoch 3/50\n",
            "11/11 [==============================] - 93s 8s/step - loss: 5.2092 - accuracy: 0.2660\n",
            "Epoch 4/50\n",
            "11/11 [==============================] - 87s 8s/step - loss: 2.9199 - accuracy: 0.3184\n",
            "Epoch 5/50\n",
            "11/11 [==============================] - 104s 9s/step - loss: 2.1034 - accuracy: 0.3903\n",
            "Epoch 6/50\n",
            "11/11 [==============================] - 103s 9s/step - loss: 1.7074 - accuracy: 0.5107\n",
            "Epoch 7/50\n",
            "11/11 [==============================] - 107s 9s/step - loss: 1.4090 - accuracy: 0.5883\n",
            "Epoch 8/50\n",
            " 7/11 [==================>...........] - ETA: 33s - loss: 1.3456 - accuracy: 0.6200"
          ]
        }
      ]
    }
  ]
}