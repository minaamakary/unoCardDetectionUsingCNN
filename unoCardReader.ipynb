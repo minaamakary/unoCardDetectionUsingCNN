{
  "nbformat": 4,
  "nbformat_minor": 0,
  "metadata": {
    "colab": {
      "provenance": [],
      "mount_file_id": "1kqKIAkE9b6wsjHgp0lPDmqBkMSn8AVMI",
      "authorship_tag": "ABX9TyOJ+YfUQOSbud4uoekQyxHi",
      "include_colab_link": true
    },
    "kernelspec": {
      "name": "python3",
      "display_name": "Python 3"
    },
    "language_info": {
      "name": "python"
    }
  },
  "cells": [
    {
      "cell_type": "markdown",
      "metadata": {
        "id": "view-in-github",
        "colab_type": "text"
      },
      "source": [
        "<a href=\"https://colab.research.google.com/github/minaamakary/unoCardDetectionUsingCNN/blob/main/unoCardReader.ipynb\" target=\"_parent\"><img src=\"https://colab.research.google.com/assets/colab-badge.svg\" alt=\"Open In Colab\"/></a>"
      ]
    },
    {
      "cell_type": "code",
      "source": [
        "from google.colab import drive\n",
        "import tensorflow as tf #import tensorflow libraries\n",
        "print (tf.__version__) #print version -- was causing an error in the beginning due to version\n",
        "from sklearn.model_selection import train_test_split\n",
        "from keras.preprocessing.image import ImageDataGenerator\n",
        "from keras import models, layers"
      ],
      "metadata": {
        "colab": {
          "base_uri": "https://localhost:8080/"
        },
        "id": "DvSa6rEa_aWs",
        "outputId": "9807d2ad-f90d-4f1a-b5e3-07c36ddc6e79"
      },
      "execution_count": 44,
      "outputs": [
        {
          "output_type": "stream",
          "name": "stdout",
          "text": [
            "2.14.0\n"
          ]
        }
      ]
    },
    {
      "cell_type": "markdown",
      "source": [
        "# New Section"
      ],
      "metadata": {
        "id": "fnyU-zud9T40"
      }
    },
    {
      "cell_type": "code",
      "source": [
        "\n",
        "dataset_path = '/content/drive/MyDrive/uno_cards_dataset/myDataset' #getting the path to the dataset\n",
        "\n",
        "train_datagen = ImageDataGenerator( #image processing\n",
        "    rescale=1./255,\n",
        "    shear_range=0.2,\n",
        "    zoom_range=0.2,\n",
        "    horizontal_flip=True\n",
        ")\n",
        "\n",
        "train_generator = train_datagen.flow_from_directory(\n",
        "    dataset_path,\n",
        "    target_size=(224, 224), #set image size to 224*224\n",
        "    batch_size=50,\n",
        "    class_mode='categorical',\n",
        "    shuffle=True,\n",
        "    seed=42\n",
        ")\n",
        "\n",
        "\n"
      ],
      "metadata": {
        "colab": {
          "base_uri": "https://localhost:8080/"
        },
        "id": "TkcHDqIcAi_K",
        "outputId": "b91d80da-babf-4b54-cfb5-e077a3630b77"
      },
      "execution_count": 49,
      "outputs": [
        {
          "output_type": "stream",
          "name": "stdout",
          "text": [
            "Found 515 images belonging to 54 classes.\n"
          ]
        }
      ]
    },
    {
      "cell_type": "code",
      "source": [
        "model = models.Sequential()\n",
        "model.add(layers.Conv2D(32, (3, 3), activation='relu', input_shape=(224,224,3)))\n",
        "#Add more layers\n",
        "model.add(layers.Flatten())\n",
        "model.add(layers.Dense(54, activation='softmax'))\n",
        "\n",
        "#adding another layer\n",
        "#model.add(layers.Conv2D(32, (3, 3), activation='relu'))\n",
        "#model.add(layers.Flatten())\n",
        "#model.add(layers.Dense(54, activation='softmax'))\n",
        "\n",
        "#and another layer :D\n",
        "#model.add(layers.Conv2D(32, (3, 3), activation='relu'))\n",
        "#model.add(layers.Flatten())\n",
        "#model.add(layers.Dense(54, activation='softmax'))\n",
        "\n",
        "\n",
        "model.summary()\n",
        "model.compile(optimizer='adam', loss='categorical_crossentropy', metrics=['accuracy'])"
      ],
      "metadata": {
        "colab": {
          "base_uri": "https://localhost:8080/"
        },
        "id": "ELg0Qs2vFkTb",
        "outputId": "0ba569d5-acf6-40c3-9bc6-ef8c75c2346c"
      },
      "execution_count": 50,
      "outputs": [
        {
          "output_type": "stream",
          "name": "stdout",
          "text": [
            "Model: \"sequential_11\"\n",
            "_________________________________________________________________\n",
            " Layer (type)                Output Shape              Param #   \n",
            "=================================================================\n",
            " conv2d_10 (Conv2D)          (None, 222, 222, 32)      896       \n",
            "                                                                 \n",
            " flatten_9 (Flatten)         (None, 1577088)           0         \n",
            "                                                                 \n",
            " dense_9 (Dense)             (None, 54)                85162806  \n",
            "                                                                 \n",
            "=================================================================\n",
            "Total params: 85163702 (324.87 MB)\n",
            "Trainable params: 85163702 (324.87 MB)\n",
            "Non-trainable params: 0 (0.00 Byte)\n",
            "_________________________________________________________________\n"
          ]
        }
      ]
    },
    {
      "cell_type": "code",
      "source": [
        "your_epochs = 50\n",
        "your_steps_per_epoch = len(train_generator)\n",
        "\n",
        "# Model Training\n",
        "history = model.fit(\n",
        "    train_generator,\n",
        "    epochs=your_epochs,\n",
        "    steps_per_epoch=your_steps_per_epoch,\n",
        "    verbose=1\n",
        ")"
      ],
      "metadata": {
        "colab": {
          "base_uri": "https://localhost:8080/"
        },
        "id": "5ePL_Xs7GzIs",
        "outputId": "bb4d500e-a8f9-40bd-a832-feedccf5f526"
      },
      "execution_count": 52,
      "outputs": [
        {
          "output_type": "stream",
          "name": "stdout",
          "text": [
            "Epoch 1/50\n",
            "11/11 [==============================] - 93s 8s/step - loss: 158.8880 - accuracy: 0.0505\n",
            "Epoch 2/50\n",
            "11/11 [==============================] - 87s 8s/step - loss: 30.1686 - accuracy: 0.1282\n",
            "Epoch 3/50\n",
            "11/11 [==============================] - 93s 8s/step - loss: 5.2092 - accuracy: 0.2660\n",
            "Epoch 4/50\n",
            "11/11 [==============================] - 87s 8s/step - loss: 2.9199 - accuracy: 0.3184\n",
            "Epoch 5/50\n",
            "11/11 [==============================] - 104s 9s/step - loss: 2.1034 - accuracy: 0.3903\n",
            "Epoch 6/50\n",
            "11/11 [==============================] - 103s 9s/step - loss: 1.7074 - accuracy: 0.5107\n",
            "Epoch 7/50\n",
            "11/11 [==============================] - 107s 9s/step - loss: 1.4090 - accuracy: 0.5883\n",
            "Epoch 8/50\n",
            "11/11 [==============================] - 89s 8s/step - loss: 1.3525 - accuracy: 0.6214\n",
            "Epoch 9/50\n",
            "11/11 [==============================] - 94s 8s/step - loss: 1.1278 - accuracy: 0.6835\n",
            "Epoch 10/50\n",
            "11/11 [==============================] - 99s 9s/step - loss: 0.9530 - accuracy: 0.7320\n",
            "Epoch 11/50\n",
            "11/11 [==============================] - 98s 9s/step - loss: 0.8214 - accuracy: 0.7728\n",
            "Epoch 12/50\n",
            "11/11 [==============================] - 90s 8s/step - loss: 0.7679 - accuracy: 0.7612\n",
            "Epoch 13/50\n",
            "11/11 [==============================] - 94s 8s/step - loss: 0.7074 - accuracy: 0.7961\n",
            "Epoch 14/50\n",
            "11/11 [==============================] - 102s 9s/step - loss: 0.6666 - accuracy: 0.7981\n",
            "Epoch 15/50\n",
            "11/11 [==============================] - 96s 8s/step - loss: 0.4871 - accuracy: 0.8874\n",
            "Epoch 16/50\n",
            "11/11 [==============================] - 108s 9s/step - loss: 0.4751 - accuracy: 0.8757\n",
            "Epoch 17/50\n",
            "11/11 [==============================] - 103s 9s/step - loss: 0.4268 - accuracy: 0.8932\n",
            "Epoch 18/50\n",
            "11/11 [==============================] - 93s 8s/step - loss: 0.4875 - accuracy: 0.8699\n",
            "Epoch 19/50\n",
            "11/11 [==============================] - 94s 8s/step - loss: 0.3811 - accuracy: 0.8913\n",
            "Epoch 20/50\n",
            "11/11 [==============================] - 88s 8s/step - loss: 0.3928 - accuracy: 0.8718\n",
            "Epoch 21/50\n",
            "11/11 [==============================] - 86s 7s/step - loss: 0.3180 - accuracy: 0.9165\n",
            "Epoch 22/50\n",
            "11/11 [==============================] - 108s 10s/step - loss: 0.2953 - accuracy: 0.9146\n",
            "Epoch 23/50\n",
            "11/11 [==============================] - 88s 8s/step - loss: 0.4115 - accuracy: 0.8874\n",
            "Epoch 24/50\n",
            "11/11 [==============================] - 94s 9s/step - loss: 0.3145 - accuracy: 0.9010\n",
            "Epoch 25/50\n",
            "11/11 [==============================] - 90s 8s/step - loss: 0.2560 - accuracy: 0.9340\n",
            "Epoch 26/50\n",
            "11/11 [==============================] - 90s 8s/step - loss: 0.2281 - accuracy: 0.9282\n",
            "Epoch 27/50\n",
            "11/11 [==============================] - 92s 8s/step - loss: 0.2326 - accuracy: 0.9456\n",
            "Epoch 28/50\n",
            "11/11 [==============================] - 91s 8s/step - loss: 0.2264 - accuracy: 0.9359\n",
            "Epoch 29/50\n",
            "11/11 [==============================] - 88s 8s/step - loss: 0.2503 - accuracy: 0.9282\n",
            "Epoch 30/50\n",
            "11/11 [==============================] - 90s 8s/step - loss: 0.2573 - accuracy: 0.9262\n",
            "Epoch 31/50\n",
            "11/11 [==============================] - 92s 8s/step - loss: 0.2178 - accuracy: 0.9456\n",
            "Epoch 32/50\n",
            "11/11 [==============================] - 99s 9s/step - loss: 0.1601 - accuracy: 0.9612\n",
            "Epoch 33/50\n",
            "11/11 [==============================] - 90s 8s/step - loss: 0.1515 - accuracy: 0.9553\n",
            "Epoch 34/50\n",
            "11/11 [==============================] - 92s 8s/step - loss: 0.1248 - accuracy: 0.9650\n",
            "Epoch 35/50\n",
            "11/11 [==============================] - 90s 8s/step - loss: 0.1516 - accuracy: 0.9534\n",
            "Epoch 36/50\n",
            "11/11 [==============================] - 92s 8s/step - loss: 0.1720 - accuracy: 0.9437\n",
            "Epoch 37/50\n",
            "11/11 [==============================] - 91s 8s/step - loss: 0.1140 - accuracy: 0.9728\n",
            "Epoch 38/50\n",
            "11/11 [==============================] - 91s 8s/step - loss: 0.1121 - accuracy: 0.9631\n",
            "Epoch 39/50\n",
            "11/11 [==============================] - 98s 9s/step - loss: 0.1098 - accuracy: 0.9709\n",
            "Epoch 40/50\n",
            "11/11 [==============================] - 102s 9s/step - loss: 0.1540 - accuracy: 0.9612\n",
            "Epoch 41/50\n",
            "11/11 [==============================] - 103s 9s/step - loss: 0.1121 - accuracy: 0.9689\n",
            "Epoch 42/50\n",
            "11/11 [==============================] - 110s 10s/step - loss: 0.1208 - accuracy: 0.9709\n",
            "Epoch 43/50\n",
            "11/11 [==============================] - 102s 9s/step - loss: 0.1022 - accuracy: 0.9767\n",
            "Epoch 44/50\n",
            "11/11 [==============================] - 109s 10s/step - loss: 0.0828 - accuracy: 0.9806\n",
            "Epoch 45/50\n",
            "11/11 [==============================] - 104s 9s/step - loss: 0.0612 - accuracy: 0.9883\n",
            "Epoch 46/50\n",
            "11/11 [==============================] - 102s 8s/step - loss: 0.0717 - accuracy: 0.9845\n",
            "Epoch 47/50\n",
            "11/11 [==============================] - 101s 9s/step - loss: 0.0752 - accuracy: 0.9767\n",
            "Epoch 48/50\n",
            "11/11 [==============================] - 88s 8s/step - loss: 0.0682 - accuracy: 0.9806\n",
            "Epoch 49/50\n",
            "11/11 [==============================] - 85s 7s/step - loss: 0.1342 - accuracy: 0.9612\n",
            "Epoch 50/50\n",
            "11/11 [==============================] - 87s 8s/step - loss: 0.1051 - accuracy: 0.9806\n"
          ]
        }
      ]
    }
  ]
}